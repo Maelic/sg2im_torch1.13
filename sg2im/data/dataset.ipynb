{
 "cells": [
  {
   "cell_type": "code",
   "execution_count": 2,
   "metadata": {},
   "outputs": [],
   "source": [
    "import json\n",
    "\n",
    "import numpy as np\n",
    "\n",
    "data_split = json.load(open('vg_splits.json'))"
   ]
  },
  {
   "cell_type": "code",
   "execution_count": 4,
   "metadata": {},
   "outputs": [
    {
     "name": "stdout",
     "output_type": "stream",
     "text": [
      "86463\n",
      "10807\n",
      "10807\n"
     ]
    }
   ],
   "source": [
    "print(len(data_split['train']))\n",
    "print(len(data_split['test']))\n",
    "print(len(data_split['val']))"
   ]
  },
  {
   "cell_type": "code",
   "execution_count": 8,
   "metadata": {},
   "outputs": [
    {
     "name": "stdout",
     "output_type": "stream",
     "text": [
      "b'VG_100K/10.jpg'\n"
     ]
    }
   ],
   "source": [
    "# load h5 file\n",
    "import h5py\n",
    "file_path = '/home/maelic/Documents/PhD/ModelZoo/SGG2IM/sg2im/datasets/vg/test.h5'\n",
    "f = h5py.File(file_path, 'r')\n",
    "print(f['image_paths'][0])\n"
   ]
  }
 ],
 "metadata": {
  "kernelspec": {
   "display_name": "phd",
   "language": "python",
   "name": "python3"
  },
  "language_info": {
   "codemirror_mode": {
    "name": "ipython",
    "version": 3
   },
   "file_extension": ".py",
   "mimetype": "text/x-python",
   "name": "python",
   "nbconvert_exporter": "python",
   "pygments_lexer": "ipython3",
   "version": "3.8.16"
  },
  "orig_nbformat": 4,
  "vscode": {
   "interpreter": {
    "hash": "7938123ceb831a528202b02dbdb8fd920084013224d6ffd4fcb9a5f6f5074515"
   }
  }
 },
 "nbformat": 4,
 "nbformat_minor": 2
}
