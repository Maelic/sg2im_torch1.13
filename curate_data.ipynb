{
 "cells": [
  {
   "cell_type": "code",
   "execution_count": 1,
   "metadata": {},
   "outputs": [
    {
     "name": "stdout",
     "output_type": "stream",
     "text": [
      "4.164070180745671\n",
      "<KeysViewHDF5 ['attributes_per_object', 'image_ids', 'image_paths', 'object_attributes', 'object_boxes', 'object_ids', 'object_names', 'objects_per_image', 'relationship_ids', 'relationship_objects', 'relationship_predicates', 'relationship_subjects', 'relationships_per_image']>\n"
     ]
    }
   ],
   "source": [
    "import json\n",
    "import h5py\n",
    "import numpy as np\n",
    "import csv\n",
    "\n",
    "test_path = \"/home/maelic/Documents/PhD/Datasets/VisualGenome/anno_sg2im_format/test.h5\"\n",
    "vocab = json.load(open(\"/home/maelic/Documents/PhD/Datasets/VisualGenome/anno_sg2im_format/vocab.json\", 'r'))\n",
    "h5_file = h5py.File(test_path, 'a')\n",
    "\n",
    "cat_path = \"/home/maelic/Documents/PhD/MyModel/PhD_Commonsense_Enrichment/VG_refinement/category_classification/vg150_classification/categories_gpt3.5_vg150_2.csv\"\n",
    "categories = csv.reader(open(cat_path, 'r'))\n",
    "\n",
    "#get average number of rel per image\n",
    "print(np.average(h5_file['relationships_per_image']))\n",
    "print(h5_file.keys())"
   ]
  },
  {
   "cell_type": "code",
   "execution_count": 2,
   "metadata": {},
   "outputs": [
    {
     "name": "stdout",
     "output_type": "stream",
     "text": [
      "<_csv.reader object at 0x7f242fbef680>\n"
     ]
    }
   ],
   "source": [
    "print(categories)\n",
    "cat_dict = {}\n",
    "for row in categories:\n",
    "    cat_dict[row[0]] = row[1]"
   ]
  },
  {
   "cell_type": "code",
   "execution_count": 3,
   "metadata": {},
   "outputs": [
    {
     "name": "stderr",
     "output_type": "stream",
     "text": [
      "100%|██████████| 26446/26446 [00:16<00:00, 1622.36it/s]"
     ]
    },
    {
     "name": "stdout",
     "output_type": "stream",
     "text": [
      "6.237351584360584\n"
     ]
    },
    {
     "name": "stderr",
     "output_type": "stream",
     "text": [
      "\n"
     ]
    }
   ],
   "source": [
    "from tqdm import tqdm\n",
    "# for each relationship, get the category of the subject and object\n",
    "# get object ids\n",
    "for img_idx in tqdm(range(len(h5_file['relationship_ids']))):\n",
    "    obj_ids = h5_file['object_ids'][img_idx]\n",
    "    # get object names\n",
    "    obj_names = h5_file['object_names'][img_idx]\n",
    "    # get attributes\n",
    "    obj_attributes = h5_file['object_attributes'][img_idx]\n",
    "    # get relationship ids\n",
    "    rel_ids = h5_file['relationship_ids'][img_idx]\n",
    "    # get relationship objects\n",
    "    rel_objs = h5_file['relationship_objects'][img_idx]\n",
    "    # get relationship predicates\n",
    "    rel_preds = h5_file['relationship_predicates'][img_idx]\n",
    "    # get relationship subjects\n",
    "    rel_subs = h5_file['relationship_subjects'][img_idx]\n",
    "\n",
    "    for i, rel in enumerate(rel_ids):\n",
    "        if rel == -1:\n",
    "            break\n",
    "        sub = rel_subs[i]\n",
    "        obj = rel_objs[i]\n",
    "        pred = rel_preds[i]\n",
    "        sub_name = vocab['object_idx_to_name'][obj_names[sub]]\n",
    "        obj_name = vocab['object_idx_to_name'][obj_names[obj]]\n",
    "        pred_name = vocab['pred_idx_to_name'][pred]\n",
    "\n",
    "        full_rel = sub_name + \" \" + pred_name + \" \" + obj_name\n",
    "        cat = cat_dict[full_rel]\n",
    "        if cat == \"attribute\":\n",
    "            # remove relationship\n",
    "            rel_ids[i] = -1\n",
    "            rel_objs[i] = -1\n",
    "            rel_preds[i] = -1\n",
    "            rel_subs[i] = -1\n",
    "    \n",
    "    # reorganize the arrays such as all -1 values are moved at the end\n",
    "    # get number of -1 values\n",
    "    nb_rel = len(rel_ids) - np.count_nonzero(rel_ids == -1)\n",
    "    # get indexes of non -1 values\n",
    "    idx2 = np.where(rel_ids != -1)\n",
    "    # new arrrays with those values\n",
    "    rel_ids = rel_ids[idx2]\n",
    "    rel_objs = rel_objs[idx2]\n",
    "    rel_preds = rel_preds[idx2]\n",
    "    rel_subs = rel_subs[idx2]\n",
    "    # pad the arrays with -1 values until 30\n",
    "    rel_ids = np.pad(rel_ids, (0, 30 - nb_rel), 'constant', constant_values=-1)\n",
    "    rel_objs = np.pad(rel_objs, (0, 30 - nb_rel), 'constant', constant_values=-1)\n",
    "    rel_preds = np.pad(rel_preds, (0, 30 - nb_rel), 'constant', constant_values=-1)\n",
    "    rel_subs = np.pad(rel_subs, (0, 30 - nb_rel), 'constant', constant_values=-1)\n",
    "\n",
    "    h5_file['relationships_per_image'][img_idx] = nb_rel\n",
    "\n",
    "print(np.average(h5_file['relationships_per_image']))\n",
    "\n",
    "out_path = \"/home/maelic/Documents/PhD/ModelZoo/SGG2IM/sg2im/datasets/experiments/vg150_no_attribute.h5\"\n",
    "\n",
    "# copy and write down to new file\n",
    "with h5py.File(out_path, 'w') as f:\n",
    "    for k, v in h5_file.items():\n",
    "        f.create_dataset(k, data=v)"
   ]
  }
 ],
 "metadata": {
  "kernelspec": {
   "display_name": "phd",
   "language": "python",
   "name": "python3"
  },
  "language_info": {
   "codemirror_mode": {
    "name": "ipython",
    "version": 3
   },
   "file_extension": ".py",
   "mimetype": "text/x-python",
   "name": "python",
   "nbconvert_exporter": "python",
   "pygments_lexer": "ipython3",
   "version": "3.11.5"
  }
 },
 "nbformat": 4,
 "nbformat_minor": 2
}
