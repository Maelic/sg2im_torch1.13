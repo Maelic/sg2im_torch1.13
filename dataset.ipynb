{
 "cells": [
  {
   "cell_type": "code",
   "execution_count": 22,
   "metadata": {},
   "outputs": [],
   "source": [
    "import h5py\n",
    "import json\n",
    "import numpy as np\n",
    "import tqdm\n",
    "\n",
    "# load dataset\n",
    "data_path = \"/home/maelic/Documents/PhD/Datasets/VisualGenome/original_annotations/val.h5\"\n",
    "data = h5py.File(data_path, 'r')\n",
    "\n",
    "# load curated dataset\n",
    "curated_path = \"/home/maelic/Documents/Scene-Graph-Benchmark-Cuda11.7/datasets/VG150/curated/VG-SGG-with-attri.h5\"\n",
    "curated = h5py.File(curated_path, 'r')\n",
    "curated_json_dict = json.load(open(\"/home/maelic/Documents/Scene-Graph-Benchmark-Cuda11.7/datasets/VG150/curated/VG-SGG-dicts-with-attri.json\"))\n",
    "\n",
    "image_data = json.load(open(\"/home/maelic/Documents/PhD/MyModel/Scene-Graph-Benchmark-Cuda11.7/datasets/vg/image_data.json\"))"
   ]
  },
  {
   "cell_type": "code",
   "execution_count": 2,
   "metadata": {},
   "outputs": [
    {
     "name": "stdout",
     "output_type": "stream",
     "text": [
      "<KeysViewHDF5 ['attributes_per_object', 'image_ids', 'image_paths', 'object_attributes', 'object_boxes', 'object_ids', 'object_names', 'objects_per_image', 'relationship_ids', 'relationship_objects', 'relationship_predicates', 'relationship_subjects', 'relationships_per_image']>\n"
     ]
    }
   ],
   "source": [
    "print(data.keys())"
   ]
  },
  {
   "cell_type": "code",
   "execution_count": 23,
   "metadata": {},
   "outputs": [
    {
     "name": "stdout",
     "output_type": "stream",
     "text": [
      "<KeysViewHDF5 ['attributes', 'boxes_1024', 'boxes_512', 'img_to_first_box', 'img_to_first_rel', 'img_to_last_box', 'img_to_last_rel', 'labels', 'predicates', 'relationships', 'split', 'split_rel']>\n"
     ]
    }
   ],
   "source": [
    "print(curated.keys())"
   ]
  },
  {
   "cell_type": "code",
   "execution_count": null,
   "metadata": {},
   "outputs": [],
   "source": [
    "print(list(curated['split_rel']).index(0))\n",
    "\n",
    "indices = [i for i, x in enumerate(list(curated['split_rel'])) if x == 2]\n",
    "print(indices)"
   ]
  },
  {
   "cell_type": "code",
   "execution_count": null,
   "metadata": {},
   "outputs": [],
   "source": [
    "def generating_files():\n",
    "    splits = {'train': 0, 'val': 1, 'test': 2}\n",
    "    for split in ['train', 'val', 'test']:\n",
    "      final_image_ids = []\n",
    "      object_ids = []\n",
    "      object_names = []\n",
    "      object_boxes = []\n",
    "      objects_per_image = []\n",
    "      relationship_ids = []\n",
    "      relationship_subjects = []\n",
    "      relationship_predicates = []\n",
    "      relationship_objects = []\n",
    "      relationships_per_image = []\n",
    "      attributes_per_object = []\n",
    "      object_attributes = []\n",
    "\n",
    "      indices = [i for i, x in enumerate(list(curated['split_rel'])) if x == splits[split]]\n",
    "\n",
    "      for image_index in tqdm(indices):\n",
    "        object_id = []\n",
    "        object_name = []\n",
    "        object_box = []\n",
    "\n",
    "        image_id = image_data[indices]['image_id']\n",
    "\n",
    "        # Get the number of objects in the image.\n",
    "        ob_start = curated['img_to_first_box'][image_index]\n",
    "        ob_end = curated['img_to_last_box'][image_index]\n",
    "        num_objects = ob_end - ob_start + 1\n",
    "\n",
    "        for o in range(ob_start, ob_end + 1):\n",
    "          object_id.append(o)\n",
    "          object_name.append(curated['labels'][o])\n",
    "          object_box = curated['object_boxes'][image_index, :num_objects]\n",
    "\n",
    "        if num_objects == 0:\n",
    "          continue\n",
    "\n",
    "        # Get the number of relationships in the image.\n",
    "        num_relationships = curated['relationships_per_image'][image_index]\n",
    "        if num_relationships == 0:\n",
    "          continue\n",
    "\n",
    "        # Get the object ids, names, and boxes.\n",
    "        object_id = curated['object_ids'][image_index, :num_objects]\n",
    "        object_name = curated['object_names'][image_index, :num_objects]\n",
    "        object_box = curated['object_boxes'][image_index, :num_objects]\n",
    "\n",
    "        # Get the relationship ids, subjects, predicates, and objects.\n",
    "        relationship_id = curated['relationship_ids'][image_index, :num_relationships]\n",
    "        relationship_subject = curated['relationship_subjects'][image_index, :num_relationships]\n",
    "        relationship_predicate = curated['relationship_predicates'][image_index, :num_relationships]\n",
    "        relationship_object = curated['relationship_objects'][image_index, :num_relationships]\n",
    "\n",
    "        # Get the number of attributes per object.\n",
    "        num_attributes_per_object = curated['attributes_per_object'][image_index, :num_objects]\n",
    "\n",
    "        # Get the object attributes.\n",
    "        object_attribute = []\n",
    "        for j in range(num_objects):\n",
    "          object_attribute.append(curated['object_attributes'][image_index, j, :num_attributes_per_object[j]])\n",
    "\n",
    "        # Add the data to the lists.\n",
    "        final_image_ids.append(image_id)\n",
    "        object_ids.append(object_id)\n",
    "        object_names.append(object_name)\n",
    "        object_boxes.append(object_box)\n",
    "        objects_per_image.append(num_objects)\n",
    "        relationship_ids.append(relationship_id)\n",
    "        relationship_subjects\n",
    "\n",
    "\n",
    "    numpy_arrays[split] = {\n",
    "      'image_ids': np.asarray(final_image_ids),\n",
    "      'object_ids': np.asarray(object_ids),\n",
    "      'object_names': np.asarray(object_names),\n",
    "      'object_boxes': np.asarray(object_boxes),\n",
    "      'objects_per_image': np.asarray(objects_per_image),\n",
    "      'relationship_ids': np.asarray(relationship_ids),\n",
    "      'relationship_subjects': np.asarray(relationship_subjects),\n",
    "      'relationship_predicates': np.asarray(relationship_predicates),\n",
    "      'relationship_objects': np.asarray(relationship_objects),\n",
    "      'relationships_per_image': np.asarray(relationships_per_image),\n",
    "      'attributes_per_object': np.asarray(attributes_per_object),\n",
    "      'object_attributes': np.asarray(object_attributes),\n",
    "    }"
   ]
  }
 ],
 "metadata": {
  "kernelspec": {
   "display_name": "phd",
   "language": "python",
   "name": "python3"
  },
  "language_info": {
   "codemirror_mode": {
    "name": "ipython",
    "version": 3
   },
   "file_extension": ".py",
   "mimetype": "text/x-python",
   "name": "python",
   "nbconvert_exporter": "python",
   "pygments_lexer": "ipython3",
   "version": "3.8.16"
  },
  "orig_nbformat": 4,
  "vscode": {
   "interpreter": {
    "hash": "7938123ceb831a528202b02dbdb8fd920084013224d6ffd4fcb9a5f6f5074515"
   }
  }
 },
 "nbformat": 4,
 "nbformat_minor": 2
}
